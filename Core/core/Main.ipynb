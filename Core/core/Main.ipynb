{
 "cells": [
  {
   "cell_type": "code",
   "execution_count": 2,
   "id": "847b5e86",
   "metadata": {},
   "outputs": [],
   "source": [
    "'''\n",
    "Each of us shoul be able to explain our part of the code.\n",
    "Please add comments to your code to explain what each part does.\n",
    "All team members should be able to run the code and understand the output.\n",
    "'''\n",
    "\n",
    "# Import necessary libraries for data handling, model training, and evaluation\n",
    "import pandas as pd\n",
    "from sklearn.model_selection import train_test_split\n",
    "from sklearn.impute import SimpleImputer\n",
    "from sklearn.metrics import (\n",
    "    accuracy_score,          # Accuracy of the model\n",
    "    f1_score,                # Harmonic mean of precision and recall\n",
    "    precision_score,         # Percentage of relevant instances among the retrieved instances\n",
    "    recall_score,            # Percentage of relevant instances that were retrieved\n",
    "    confusion_matrix,        # Matrix showing actual vs predicted classifications\n",
    "    classification_report    # Summary report for precision, recall, f1-score\n",
    ")\n",
    "import seaborn as sns       # For visualization (optional in this script)\n",
    "import matplotlib.pyplot as plt  # For plotting (optional in this script)\n",
    "\n",
    "# Load the dataset into a DataFrame\n",
    "df = pd.read_csv(\"dataset_HR.csv\")\n",
    "\n",
    "# Identify numerical and categorical columns\n",
    "num_cols = df.select_dtypes(include=['int64', 'float64']).columns    # All numeric columns\n",
    "cat_cols = df.select_dtypes(include='object').columns                # All object-type columns (categorical)\n",
    "\n",
    "# Create imputation strategies for missing values\n",
    "num_imputer = SimpleImputer(strategy='mean')               # Fill missing numeric values with the mean\n",
    "cat_imputer = SimpleImputer(strategy='most_frequent')      # Fill missing categorical values with the most frequent\n",
    "\n",
    "# Apply imputations to the respective columns\n",
    "df[num_cols] = num_imputer.fit_transform(df[num_cols])     # Replace missing numeric data\n",
    "df[cat_cols] = cat_imputer.fit_transform(df[cat_cols])     # Replace missing categorical data"
   ]
  },
  {
   "cell_type": "code",
   "execution_count": 3,
   "id": "8ab65ff8",
   "metadata": {},
   "outputs": [
    {
     "name": "stdout",
     "output_type": "stream",
     "text": [
      "Train Shape: (960, 14)\n",
      "Test Shape: (240, 14)\n",
      "\n",
      "Train Distribution of 'Attrition':\n",
      "Attrition\n",
      "0    76.88%\n",
      "1    23.12%\n",
      "Name: proportion, dtype: object\n"
     ]
    }
   ],
   "source": [
    "# Convert the target variable 'Attrition' from categorical to numeric\n",
    "# 'Yes' becomes 1 (employee left), 'No' becomes 0 (employee stayed)\n",
    "df['Attrition'] = df['Attrition'].map({'Yes': 1, 'No': 0})\n",
    "\n",
    "# Convert categorical features into dummy/one-hot encoded variables (excluding Attrition)\n",
    "# drop_first=True helps prevent multicollinearity by dropping the first category in each\n",
    "df = pd.get_dummies(df, columns=cat_cols.drop('Attrition'), drop_first=True)\n",
    "\n",
    "# Define feature matrix (X) and target vector (y)\n",
    "X = df.drop(\"Attrition\", axis=1)  # All columns except the target\n",
    "y = df[\"Attrition\"]               # Target column\n",
    "\n",
    "# Split the data into training and testing sets\n",
    "# test_size=0.2 means 20% test, 80% train\n",
    "# stratify=y ensures the target class distribution is preserved in both sets\n",
    "X_train, X_test, y_train, y_test = train_test_split(\n",
    "    X, y, test_size=0.2, random_state=42, stratify=y\n",
    ")\n",
    "\n",
    "# Print the shape of training and testing sets\n",
    "print(\"Train Shape:\", X_train.shape)\n",
    "print(\"Test Shape:\", X_test.shape)\n",
    "\n",
    "# Show class distribution in training set\n",
    "print(\"\\nTrain Distribution of 'Attrition':\")\n",
    "print(y_train.value_counts(normalize=True).map(\"{:.2%}\".format))  # Shows percentage format"
   ]
  },
  {
   "cell_type": "markdown",
   "id": "c426698f",
   "metadata": {},
   "source": [
    "ergis part\n"
   ]
  },
  {
   "cell_type": "code",
   "execution_count": 4,
   "id": "12f0759e",
   "metadata": {},
   "outputs": [],
   "source": [
    "from sklearn.ensemble import RandomForestClassifier  # Import Random Forest Classifier\n",
    "\n",
    "# Define a Random Forest model with class_weight='balanced' to handle class imbalance\n",
    "# random_state ensures reproducible results\n",
    "model = RandomForestClassifier(class_weight='balanced', random_state=42)\n",
    "\n",
    "# Train the model using the training data\n",
    "model.fit(X_train, y_train)\n",
    "\n",
    "# Predict the labels for the test data\n",
    "y_pred = model.predict(X_test)"
   ]
  },
  {
   "cell_type": "code",
   "execution_count": 5,
   "id": "9acb4c7f",
   "metadata": {},
   "outputs": [
    {
     "name": "stdout",
     "output_type": "stream",
     "text": [
      "🎯 Classification Report (Random Forest):\n",
      "              precision    recall  f1-score   support\n",
      "\n",
      "           0       0.77      0.99      0.87       185\n",
      "           1       0.00      0.00      0.00        55\n",
      "\n",
      "    accuracy                           0.77       240\n",
      "   macro avg       0.38      0.50      0.43       240\n",
      "weighted avg       0.59      0.77      0.67       240\n",
      "\n"
     ]
    }
   ],
   "source": [
    "# Print a full classification report showing precision, recall, f1-score, and support\n",
    "# This is useful to understand how well the model performs on each class individually\n",
    "print(\"🎯 Classification Report (Random Forest):\")\n",
    "print(classification_report(y_test, y_pred))"
   ]
  },
  {
   "cell_type": "markdown",
   "id": "8ceabf37",
   "metadata": {},
   "source": [
    "from here till end will be presented by alban "
   ]
  },
  {
   "cell_type": "code",
   "execution_count": 6,
   "id": "cf2ce64d",
   "metadata": {},
   "outputs": [
    {
     "name": "stdout",
     "output_type": "stream",
     "text": [
      "Evaluation Metrics:\n",
      "Accuracy:  0.7667\n",
      "Precision: 0.0000\n",
      "Recall:    0.0000\n",
      "F1-score:  0.0000\n",
      "\n",
      "📋 Classification Report:\n",
      "              precision    recall  f1-score   support\n",
      "\n",
      "           0       0.77      0.99      0.87       185\n",
      "           1       0.00      0.00      0.00        55\n",
      "\n",
      "    accuracy                           0.77       240\n",
      "   macro avg       0.38      0.50      0.43       240\n",
      "weighted avg       0.59      0.77      0.67       240\n",
      "\n"
     ]
    }
   ],
   "source": [
    "# Calculate individual evaluation metrics to quantitatively assess model performance\n",
    "acc = accuracy_score(y_test, y_pred)           # Accuracy: overall correctness\n",
    "f1 = f1_score(y_test, y_pred)                  # F1 Score: balance between precision and recall\n",
    "prec = precision_score(y_test, y_pred)         # Precision: TP / (TP + FP)\n",
    "rec = recall_score(y_test, y_pred)             # Recall: TP / (TP + FN)\n",
    "\n",
    "# Print each metric with 4 decimal places for clarity\n",
    "print(\"Evaluation Metrics:\")\n",
    "print(f\"Accuracy:  {acc:.4f}\")\n",
    "print(f\"Precision: {prec:.4f}\")\n",
    "print(f\"Recall:    {rec:.4f}\")\n",
    "print(f\"F1-score:  {f1:.4f}\")\n",
    "\n",
    "# Optional: Print full classification report again (same as previous cell)\n",
    "print(\"\\n📋 Classification Report:\")\n",
    "print(classification_report(y_test, y_pred))"
   ]
  },
  {
   "cell_type": "code",
   "execution_count": 7,
   "id": "8cf6cda5",
   "metadata": {},
   "outputs": [
    {
     "data": {
      "image/png": "[encoded data removed]",
      "text/plain": [
       "<Figure size 600x400 with 1 Axes>"
      ]
     },
     "metadata": {},
     "output_type": "display_data"
    }
   ],
   "source": [
    "# Generate the confusion matrix, which shows the number of true positives, false positives, etc.\n",
    "cm = confusion_matrix(y_test, y_pred)\n",
    "\n",
    "# Plot the confusion matrix as a heatmap\n",
    "plt.figure(figsize=(6,4))                         # Set figure size\n",
    "sns.heatmap(cm, annot=True, fmt='d', cmap='Blues', cbar=False)  # Annotate with numbers, no color bar\n",
    "plt.xlabel(\"Predicted\")                           # Label for x-axis\n",
    "plt.ylabel(\"Actual\")                              # Label for y-axis\n",
    "plt.title(\"Confusion Matrix\")                  # Title of the plot\n",
    "plt.show()                                        # Display the plot"
   ]
  }
 ],
 "metadata": {
  "kernelspec": {
   "display_name": ".venv",
   "language": "python",
   "name": "python3"
  },
  "language_info": {
   "codemirror_mode": {
    "name": "ipython",
    "version": 3
   },
   "file_extension": ".py",
   "mimetype": "text/x-python",
   "name": "python",
   "nbconvert_exporter": "python",
   "pygments_lexer": "ipython3",
   "version": "3.10.18"
  }
 },
 "nbformat": 4,
 "nbformat_minor": 5
}
