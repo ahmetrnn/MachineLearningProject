{
 "cells": [
  {
   "cell_type": "code",
   "execution_count": null,
   "id": "847b5e86",
   "metadata": {},
   "outputs": [
    {
     "name": "stdout",
     "output_type": "stream",
     "text": [
      "Train Shape: (960, 14)\n",
      "Test Shape: (240, 14)\n",
      "\n",
      "Train Distribution of 'Attrition':\n",
      "Attrition\n",
      "0    76.88%\n",
      "1    23.12%\n",
      "Name: proportion, dtype: object\n"
     ]
    }
   ],
   "source": [
    "'''\n",
    "Each of us shoul be able to explain our part of the code.\n",
    "Please add comments to your code to explain what each part does.\n",
    "All team members should be able to run the code and understand the output.\n",
    "'''\n",
    "\n",
    "\n",
    "\n",
    "\n",
    "import pandas as pd\n",
    "from sklearn.model_selection import train_test_split\n",
    "from sklearn.impute import SimpleImputer\n",
    "from sklearn.metrics import (\n",
    "    accuracy_score,\n",
    "    f1_score,\n",
    "    precision_score,\n",
    "    recall_score,\n",
    "    confusion_matrix,\n",
    "    classification_report\n",
    ")\n",
    "import seaborn as sns\n",
    "import matplotlib.pyplot as plt\n",
    "df = pd.read_csv(\"dataset_HR.csv\")\n",
    "\n",
    "num_cols = df.select_dtypes(include=['int64', 'float64']).columns\n",
    "cat_cols = df.select_dtypes(include='object').columns\n",
    "\n",
    "num_imputer = SimpleImputer(strategy='mean')\n",
    "cat_imputer = SimpleImputer(strategy='most_frequent')\n",
    "\n",
    "df[num_cols] = num_imputer.fit_transform(df[num_cols])\n",
    "df[cat_cols] = cat_imputer.fit_transform(df[cat_cols])\n",
    "\n",
    "df['Attrition'] = df['Attrition'].map({'Yes': 1, 'No': 0})\n",
    "\n",
    "df = pd.get_dummies(df, columns=cat_cols.drop('Attrition'), drop_first=True)\n",
    "\n",
    "X = df.drop(\"Attrition\", axis=1)\n",
    "y = df[\"Attrition\"]\n",
    "\n",
    "X_train, X_test, y_train, y_test = train_test_split(\n",
    "    X, y, test_size=0.2, random_state=42, stratify=y\n",
    ")\n",
    "\n",
    "print(\"Train Shape:\", X_train.shape)\n",
    "print(\"Test Shape:\", X_test.shape)\n",
    "print(\"\\nTrain Distribution of 'Attrition':\")\n",
    "print(y_train.value_counts(normalize=True).map(\"{:.2%}\".format))"
   ]
  },
  {
   "cell_type": "markdown",
   "id": "52caf819",
   "metadata": {},
   "source": [
    "First part will be presented by ahmet"
   ]
  },
  {
   "cell_type": "markdown",
   "id": "988a1211",
   "metadata": {},
   "source": [
    "From here till end ergi will explain what does this code do and prepare for the presentation"
   ]
  },
  {
   "cell_type": "code",
   "execution_count": null,
   "id": "b825a251",
   "metadata": {},
   "outputs": [],
   "source": [
    "\n",
    "X = df.drop('Attrition', axis=1)\n",
    "Y = df['Attrition']\n",
    "\n",
    "X_train, X_test, y_train, y_test = train_test_split(X, Y, test_size=0.2, random_state=42)\n"
   ]
  },
  {
   "cell_type": "code",
   "execution_count": 6,
   "id": "12f0759e",
   "metadata": {},
   "outputs": [],
   "source": [
    "from sklearn.ensemble import RandomForestClassifier\n",
    "# Model tanımı\n",
    "model = RandomForestClassifier(class_weight='balanced', random_state=42)\n",
    "\n",
    "# Eğit\n",
    "model.fit(X_train, y_train)\n",
    "\n",
    "# Tahmin yap\n",
    "y_pred = model.predict(X_test)\n"
   ]
  },
  {
   "cell_type": "code",
   "execution_count": 9,
   "id": "9acb4c7f",
   "metadata": {},
   "outputs": [
    {
     "name": "stdout",
     "output_type": "stream",
     "text": [
      "🎯 Classification Report (Random Forest):\n",
      "              precision    recall  f1-score   support\n",
      "\n",
      "           0       0.81      0.99      0.89       194\n",
      "           1       0.00      0.00      0.00        46\n",
      "\n",
      "    accuracy                           0.80       240\n",
      "   macro avg       0.40      0.49      0.44       240\n",
      "weighted avg       0.65      0.80      0.72       240\n",
      "\n"
     ]
    }
   ],
   "source": [
    "print(\"🎯 Classification Report (Random Forest):\")\n",
    "print(classification_report(y_test, y_pred))"
   ]
  },
  {
   "cell_type": "markdown",
   "id": "8ceabf37",
   "metadata": {},
   "source": [
    "from here till end will be presented by alban "
   ]
  },
  {
   "cell_type": "code",
   "execution_count": 14,
   "id": "cf2ce64d",
   "metadata": {},
   "outputs": [
    {
     "name": "stdout",
     "output_type": "stream",
     "text": [
      "📊 Evaluation Metrics:\n",
      "✅ Accuracy:  0.7708\n",
      "🎯 Precision: 0.5000\n",
      "📈 Recall:    0.0182\n",
      "🏅 F1-score:  0.0351\n",
      "\n",
      "📋 Classification Report:\n",
      "              precision    recall  f1-score   support\n",
      "\n",
      "           0       0.77      0.99      0.87       185\n",
      "           1       0.50      0.02      0.04        55\n",
      "\n",
      "    accuracy                           0.77       240\n",
      "   macro avg       0.64      0.51      0.45       240\n",
      "weighted avg       0.71      0.77      0.68       240\n",
      "\n"
     ]
    }
   ],
   "source": [
    "acc = accuracy_score(y_test, y_pred)\n",
    "f1 = f1_score(y_test, y_pred)\n",
    "prec = precision_score(y_test, y_pred)\n",
    "rec = recall_score(y_test, y_pred)\n",
    "\n",
    "print(\"📊 Evaluation Metrics:\")\n",
    "print(f\"✅ Accuracy:  {acc:.4f}\")\n",
    "print(f\"🎯 Precision: {prec:.4f}\")\n",
    "print(f\"📈 Recall:    {rec:.4f}\")\n",
    "print(f\"🏅 F1-score:  {f1:.4f}\")\n",
    "\n",
    "# Ek olarak detaylı rapor\n",
    "print(\"\\n📋 Classification Report:\")\n",
    "print(classification_report(y_test, y_pred))"
   ]
  },
  {
   "cell_type": "code",
   "execution_count": 15,
   "id": "8cf6cda5",
   "metadata": {},
   "outputs": [
    {
     "name": "stderr",
     "output_type": "stream",
     "text": [
      "/Users/ahmeteren/MachineLearningProject/.venv/lib/python3.10/site-packages/IPython/core/pylabtools.py:170: UserWarning: Glyph 129513 (\\N{JIGSAW PUZZLE PIECE}) missing from font(s) DejaVu Sans.\n",
      "  fig.canvas.print_figure(bytes_io, **kw)\n"
     ]
    },
    {
     "data": {
      "image/png": "[encoded data removed]",
      "text/plain": [
       "<Figure size 600x400 with 1 Axes>"
      ]
     },
     "metadata": {},
     "output_type": "display_data"
    }
   ],
   "source": [
    "cm = confusion_matrix(y_test, y_pred)\n",
    "\n",
    "plt.figure(figsize=(6,4))\n",
    "sns.heatmap(cm, annot=True, fmt='d', cmap='Blues', cbar=False)\n",
    "plt.xlabel(\"Predicted\")\n",
    "plt.ylabel(\"Actual\")\n",
    "plt.title(\"🧩 Confusion Matrix\")\n",
    "plt.show()"
   ]
  }
 ],
 "metadata": {
  "kernelspec": {
   "display_name": ".venv",
   "language": "python",
   "name": "python3"
  },
  "language_info": {
   "codemirror_mode": {
    "name": "ipython",
    "version": 3
   },
   "file_extension": ".py",
   "mimetype": "text/x-python",
   "name": "python",
   "nbconvert_exporter": "python",
   "pygments_lexer": "ipython3",
   "version": "3.10.16"
  }
 },
 "nbformat": 4,
 "nbformat_minor": 5
}
